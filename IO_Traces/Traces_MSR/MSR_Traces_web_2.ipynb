{
 "cells": [
  {
   "cell_type": "code",
   "execution_count": 23,
   "metadata": {},
   "outputs": [],
   "source": [
    "# Timestamp is the time the I/O was issued in \"Windows filetime\"\n",
    "# Hostname is the hostname (should be the same as that in the trace file name)\n",
    "# DiskNumber is the disknumber (should be the same as in the trace file name)\n",
    "# Type is \"Read\" or \"Write\"\n",
    "# Offset is the starting offset of the I/O in bytes from the start of the logical\n",
    "# disk.\n",
    "# Size is the transfer size of the I/O request in bytes.\n",
    "# ResponseTime is the time taken by the I/O to complete, in Windows filetime\n",
    "# units."
   ]
  },
  {
   "cell_type": "code",
   "execution_count": 21,
   "metadata": {},
   "outputs": [
    {
     "name": "stdout",
     "output_type": "stream",
     "text": [
      "Once deleted, variables cannot be recovered. Proceed (y/[n])? y\n"
     ]
    }
   ],
   "source": [
    "%reset"
   ]
  },
  {
   "cell_type": "markdown",
   "metadata": {},
   "source": [
    "## Trace analysis - 7 Days"
   ]
  },
  {
   "cell_type": "markdown",
   "metadata": {},
   "source": [
    "### All accesses wrt each block"
   ]
  },
  {
   "cell_type": "code",
   "execution_count": 1,
   "metadata": {},
   "outputs": [
    {
     "data": {
      "text/html": [
       "<div>\n",
       "<style scoped>\n",
       "    .dataframe tbody tr th:only-of-type {\n",
       "        vertical-align: middle;\n",
       "    }\n",
       "\n",
       "    .dataframe tbody tr th {\n",
       "        vertical-align: top;\n",
       "    }\n",
       "\n",
       "    .dataframe thead th {\n",
       "        text-align: right;\n",
       "    }\n",
       "</style>\n",
       "<table border=\"1\" class=\"dataframe\">\n",
       "  <thead>\n",
       "    <tr style=\"text-align: right;\">\n",
       "      <th></th>\n",
       "      <th>Timestamp</th>\n",
       "      <th>Hostname</th>\n",
       "      <th>DiskNumber</th>\n",
       "      <th>Type</th>\n",
       "      <th>Offset</th>\n",
       "      <th>Size</th>\n",
       "      <th>ResponseTime</th>\n",
       "    </tr>\n",
       "  </thead>\n",
       "  <tbody>\n",
       "    <tr>\n",
       "      <th>0</th>\n",
       "      <td>128166387141681060</td>\n",
       "      <td>web</td>\n",
       "      <td>2</td>\n",
       "      <td>Write</td>\n",
       "      <td>80603393536</td>\n",
       "      <td>15360</td>\n",
       "      <td>2331</td>\n",
       "    </tr>\n",
       "    <tr>\n",
       "      <th>1</th>\n",
       "      <td>128166387167931111</td>\n",
       "      <td>web</td>\n",
       "      <td>2</td>\n",
       "      <td>Write</td>\n",
       "      <td>3200237056</td>\n",
       "      <td>4096</td>\n",
       "      <td>2113</td>\n",
       "    </tr>\n",
       "    <tr>\n",
       "      <th>2</th>\n",
       "      <td>128166387167931973</td>\n",
       "      <td>web</td>\n",
       "      <td>2</td>\n",
       "      <td>Write</td>\n",
       "      <td>3154140672</td>\n",
       "      <td>4096</td>\n",
       "      <td>1250</td>\n",
       "    </tr>\n",
       "    <tr>\n",
       "      <th>3</th>\n",
       "      <td>128166387167931988</td>\n",
       "      <td>web</td>\n",
       "      <td>2</td>\n",
       "      <td>Write</td>\n",
       "      <td>3154148864</td>\n",
       "      <td>4096</td>\n",
       "      <td>1236</td>\n",
       "    </tr>\n",
       "    <tr>\n",
       "      <th>4</th>\n",
       "      <td>128166387201681095</td>\n",
       "      <td>web</td>\n",
       "      <td>2</td>\n",
       "      <td>Write</td>\n",
       "      <td>73246346752</td>\n",
       "      <td>4096</td>\n",
       "      <td>1913</td>\n",
       "    </tr>\n",
       "  </tbody>\n",
       "</table>\n",
       "</div>"
      ],
      "text/plain": [
       "            Timestamp Hostname  DiskNumber   Type       Offset   Size  \\\n",
       "0  128166387141681060      web           2  Write  80603393536  15360   \n",
       "1  128166387167931111      web           2  Write   3200237056   4096   \n",
       "2  128166387167931973      web           2  Write   3154140672   4096   \n",
       "3  128166387167931988      web           2  Write   3154148864   4096   \n",
       "4  128166387201681095      web           2  Write  73246346752   4096   \n",
       "\n",
       "   ResponseTime  \n",
       "0          2331  \n",
       "1          2113  \n",
       "2          1250  \n",
       "3          1236  \n",
       "4          1913  "
      ]
     },
     "execution_count": 1,
     "metadata": {},
     "output_type": "execute_result"
    }
   ],
   "source": [
    "# URL - http://iotta.snia.org/traces/388\n",
    "\n",
    "\n",
    "\n",
    "\n",
    "\n",
    "# Graph References - MSR Paper - https://ieeexplore.ieee.org/stamp/stamp.jsp?tp=&arnumber=4636097\n",
    "\n",
    "\n",
    "# Starting Time - 2007-02-22 19:55:39.434557\n",
    "# Ending Time - 2007-03-01 17:22:03.093349\n",
    "\n",
    "\n",
    "\n",
    "\n",
    "# Make 3 maps, read-only, write-only, both\n",
    "\n",
    "\n",
    "import pandas as pd\n",
    "import math\n",
    "import collections\n",
    "from datetime import datetime, timedelta\n",
    "\n",
    "\n",
    "import seaborn as sns\n",
    "import matplotlib.pyplot as plt\n",
    "sns.set(rc={'figure.figsize':(14,40)})\n",
    "\n",
    "\n",
    "data = pd.read_csv('web_2.csv', names=[\"Timestamp\", \"Hostname\", \"DiskNumber\", \"Type\", \"Offset\", \"Size\", \"ResponseTime\"])\n",
    "data.head()\n",
    "# print(data.shape)"
   ]
  },
  {
   "cell_type": "code",
   "execution_count": 2,
   "metadata": {},
   "outputs": [
    {
     "name": "stdout",
     "output_type": "stream",
     "text": [
      "Number of blocks accessed 17291665\n",
      "Sum of all the block accesses 69057057\n"
     ]
    }
   ],
   "source": [
    "# PART 1 - All Access\n",
    "\n",
    "block_counter_dict = {}\n",
    "block_read_counter_dict = {}\n",
    "block_write_counter_dict = {}\n",
    "\n",
    "\n",
    "for row in data.itertuples():\n",
    "        \n",
    "    # taking block size = 4KB\n",
    "    \n",
    "    block_index = int(row.Offset / 4096)\n",
    "    \n",
    "    flag_r = False\n",
    "    if (row.Type == 'Read'):\n",
    "        flag_r = True  # else flag = Write  \n",
    "    \n",
    "#     if (block_index in block_counter_dict):\n",
    "#         block_counter_dict[block_index] += 1\n",
    "#     else:\n",
    "#         block_counter_dict[block_index] = 1\n",
    "\n",
    "\n",
    "\n",
    "\n",
    "\n",
    "        \n",
    "    # using offset iterate over the next blocks\n",
    "    next_blocks_count = int(row.Size / 4096)\n",
    "\n",
    "    # Incrememnt next blocks counter ------- start from 1 as 0th block already added\n",
    "    for i in range(0, next_blocks_count):\n",
    "        # Already done for 0th block\n",
    "#         if (i == 0):\n",
    "#             continue\n",
    "        if (block_index+i in block_counter_dict):\n",
    "            block_counter_dict[block_index+i] += 1\n",
    "        else:\n",
    "            block_counter_dict[block_index+i] = 1\n",
    "        \n",
    "\n",
    "        \n",
    "        \n",
    "    # Read and Write counters\n",
    "    for i in range(0, next_blocks_count):\n",
    "        if (flag_r):\n",
    "            if (block_index+i in block_read_counter_dict):\n",
    "                block_read_counter_dict[block_index+i] += 1\n",
    "            else:\n",
    "                block_read_counter_dict[block_index+i] = 1\n",
    "        else:        # else means write\n",
    "            if (block_index+i in block_write_counter_dict):\n",
    "                block_write_counter_dict[block_index+i] += 1\n",
    "            else:\n",
    "                block_write_counter_dict[block_index+i] = 1\n",
    "\n",
    "                \n",
    "                \n",
    "\n",
    "print (\"Number of blocks accessed\", len(block_counter_dict))\n",
    "print (\"Sum of all the block accesses\", sum(block_counter_dict.values()))\n",
    "# print (block_counter_dict)\n",
    "\n",
    "\n",
    "\n",
    "\n",
    "# for key in sorted(block_counter_dict):\n",
    "#     print (\"%s: %s\" % (key, block_counter_dict[key]))\n",
    "\n"
   ]
  },
  {
   "cell_type": "code",
   "execution_count": 8,
   "metadata": {},
   "outputs": [],
   "source": [
    "sorted_block_counter_dict = collections.OrderedDict(sorted(block_counter_dict.items()))\n",
    "sorted_block_read_counter_dict = collections.OrderedDict(sorted(block_read_counter_dict.items()))\n",
    "sorted_block_write_counter_dict = collections.OrderedDict(sorted(block_write_counter_dict.items()))\n",
    "\n",
    "# print(sorted_block_counter_dict)\n",
    "\n"
   ]
  },
  {
   "cell_type": "code",
   "execution_count": 9,
   "metadata": {},
   "outputs": [],
   "source": [
    "# print(sorted(block_counter_dict.values(), reverse=True))\n"
   ]
  },
  {
   "cell_type": "code",
   "execution_count": 10,
   "metadata": {},
   "outputs": [],
   "source": [
    "# df = pd.DataFrame(sorted_block_counter_dict, index=[1])\n",
    "# df = pd.DataFrame.from_dict(sorted_block_counter_dict.items(), orient='index')\n",
    "sorted_df = pd.DataFrame.from_dict(sorted_block_counter_dict, orient='index')\n",
    "\n",
    "# print(sorted_df)\n",
    "\n",
    "sorted_read_df = pd.DataFrame.from_dict(sorted_block_read_counter_dict, orient='index')\n",
    "sorted_write_df = pd.DataFrame.from_dict(sorted_block_write_counter_dict, orient='index')\n"
   ]
  },
  {
   "cell_type": "code",
   "execution_count": 11,
   "metadata": {},
   "outputs": [],
   "source": [
    "# sorted_read_df.head"
   ]
  },
  {
   "cell_type": "code",
   "execution_count": 12,
   "metadata": {},
   "outputs": [],
   "source": [
    "# with pd.option_context('display.max_rows', None, 'display.max_columns', None):\n",
    "#     print(sorted_df)"
   ]
  },
  {
   "cell_type": "code",
   "execution_count": null,
   "metadata": {
    "scrolled": true
   },
   "outputs": [],
   "source": [
    "sns.set(rc={'figure.figsize':(14,50)})\n",
    "cmap_i = sns.cubehelix_palette(as_cmap=True, light=.9)\n",
    "heatmap = sns.heatmap(sorted_df, cmap=cmap_i, xticklabels=False)\n",
    "plt.xlabel('Heatmap over a span of 7 days (22-Feb-2007 to 1-Mar-2007)')\n",
    "plt.ylabel('Block Number')\n",
    "plt.title('This graph is run complete IO trace file, ie. final number of counts on each block')\n",
    "plt.show()\n"
   ]
  },
  {
   "cell_type": "code",
   "execution_count": 30,
   "metadata": {},
   "outputs": [],
   "source": [
    "# sorted_read_df.shape"
   ]
  },
  {
   "cell_type": "markdown",
   "metadata": {},
   "source": [
    "### Plot of number of reads and writes wrt each block"
   ]
  },
  {
   "cell_type": "code",
   "execution_count": null,
   "metadata": {},
   "outputs": [],
   "source": [
    "sns.set(rc={'figure.figsize':(14,50)})\n",
    "cmap_i = sns.cubehelix_palette(as_cmap=True, light=.9)\n",
    "heatmap = sns.heatmap(sorted_read_df, cmap=cmap_i, xticklabels=False)\n",
    "plt.xlabel('Heatmap over a span of 7 days (22-Feb-2007 to 1-Mar-2007)')\n",
    "plt.ylabel('Block Number')\n",
    "plt.title('This graph is run on complete IO trace \"READ\" workloads, ie. final number of reads on each block')\n",
    "plt.show()\n"
   ]
  },
  {
   "cell_type": "code",
   "execution_count": null,
   "metadata": {},
   "outputs": [],
   "source": []
  },
  {
   "cell_type": "code",
   "execution_count": null,
   "metadata": {},
   "outputs": [],
   "source": [
    "sns.set(rc={'figure.figsize':(14,50)})\n",
    "cmap_i = sns.cubehelix_palette(as_cmap=True, light=.9)\n",
    "heatmap = sns.heatmap(sorted_write_df, cmap=cmap_i, xticklabels=False)\n",
    "plt.xlabel('Heatmap over a span of 7 days (22-Feb-2007 to 1-Mar-2007)')\n",
    "plt.ylabel('Block Number')\n",
    "plt.title('This graph is run on complete IO trace \"WRITE\" workloads, ie. final number of writes on each block')\n",
    "plt.show()"
   ]
  },
  {
   "cell_type": "code",
   "execution_count": null,
   "metadata": {},
   "outputs": [],
   "source": []
  },
  {
   "cell_type": "code",
   "execution_count": null,
   "metadata": {},
   "outputs": [],
   "source": []
  },
  {
   "cell_type": "code",
   "execution_count": null,
   "metadata": {},
   "outputs": [],
   "source": []
  },
  {
   "cell_type": "code",
   "execution_count": null,
   "metadata": {},
   "outputs": [],
   "source": []
  },
  {
   "cell_type": "code",
   "execution_count": null,
   "metadata": {},
   "outputs": [],
   "source": []
  },
  {
   "cell_type": "markdown",
   "metadata": {},
   "source": [
    "### Distribution functions"
   ]
  },
  {
   "cell_type": "code",
   "execution_count": 4,
   "metadata": {},
   "outputs": [
    {
     "name": "stdout",
     "output_type": "stream",
     "text": [
      "block_range_2000_plus 5\n",
      "block_range_1000_2000 2\n",
      "block_range_500_1000 0\n",
      "block_range_100_500 2\n",
      "block_range_50_100 0\n",
      "block_range_10_50 23\n",
      "block_range_2_10 12148722\n",
      "block_range_1 5142911\n",
      "block_range_0 27163083\n",
      "sum of all accessed blocks =  17291665\n",
      "\n",
      "\n",
      "\n",
      "\n",
      "io_range_2000_plus 14890\n",
      "io_range_1000_2000 3717\n",
      "io_range_500_1000 0\n",
      "io_range_100_500 442\n",
      "io_range_50_100 0\n",
      "io_range_10_50 437\n",
      "io_range_2_10 63894660\n",
      "io_range_1 5142911\n",
      "sum of all IOs =  69057057\n"
     ]
    }
   ],
   "source": [
    "block_range_2000_plus = 0\n",
    "block_range_1000_2000 = 0\n",
    "block_range_500_1000 = 0\n",
    "block_range_100_500 = 0\n",
    "block_range_50_100 = 0\n",
    "block_range_10_50 = 0\n",
    "block_range_2_10 = 0\n",
    "block_range_1 = 0\n",
    "block_range_0 = 0\n",
    "\n",
    "\n",
    "\n",
    "\n",
    "io_range_2000_plus = 0\n",
    "io_range_1000_2000 = 0\n",
    "io_range_500_1000 = 0\n",
    "io_range_100_500 = 0\n",
    "io_range_50_100 = 0\n",
    "io_range_10_50 = 0\n",
    "io_range_2_10 = 0\n",
    "io_range_1 = 0\n",
    "\n",
    "\n",
    "\n",
    "\n",
    "\n",
    "list_block_access_desc = sorted(block_counter_dict.values(), reverse=True)\n",
    "\n",
    "for i in list_block_access_desc:\n",
    "    if i >= 2000:\n",
    "        block_range_2000_plus += 1\n",
    "        io_range_2000_plus += i\n",
    "        \n",
    "    elif i >= 1000 and i < 2000:\n",
    "        block_range_1000_2000 += 1\n",
    "        io_range_1000_2000 += i\n",
    "        \n",
    "    elif i >= 500 and i < 1000:\n",
    "        block_range_500_1000 += 1\n",
    "        io_range_500_1000 += i\n",
    "        \n",
    "    elif i >= 100 and i < 500:\n",
    "        block_range_100_500 += 1\n",
    "        io_range_100_500 += i\n",
    "        \n",
    "    elif i >= 50 and i < 100:\n",
    "        block_range_50_100 += 1\n",
    "        io_range_50_100 += i\n",
    "        \n",
    "    elif i >=10 and i <= 50:\n",
    "        block_range_10_50 += 1\n",
    "        io_range_10_50 += i\n",
    "        \n",
    "    elif i >=2 and i <= 10:\n",
    "        block_range_2_10 += 1\n",
    "        io_range_2_10 += i\n",
    "        \n",
    "    elif i == 1:\n",
    "        block_range_1 += 1\n",
    "        io_range_1 += i\n",
    "        \n",
    "total_number_of_blocks = max(block_counter_dict)\n",
    "block_range_0 = (total_number_of_blocks - (len(block_counter_dict)))\n",
    "\n",
    "\n",
    "print(\"block_range_2000_plus\", block_range_2000_plus)\n",
    "print(\"block_range_1000_2000\", block_range_1000_2000)\n",
    "print(\"block_range_500_1000\", block_range_500_1000)\n",
    "print(\"block_range_100_500\", block_range_100_500)\n",
    "print(\"block_range_50_100\", block_range_50_100)\n",
    "print(\"block_range_10_50\", block_range_10_50)\n",
    "print(\"block_range_2_10\", block_range_2_10)\n",
    "print(\"block_range_1\", block_range_1)\n",
    "print(\"block_range_0\", block_range_0)\n",
    "\n",
    "number_of_blocks_total_accessed = block_range_2000_plus + block_range_1000_2000 + block_range_500_1000 + block_range_100_500 + block_range_50_100 + block_range_10_50 + block_range_2_10 + block_range_1\n",
    "print(\"sum of all accessed blocks = \", number_of_blocks_total_accessed)\n",
    "\n",
    "\n",
    "\n",
    "print(\"\\n\\n\\n\")\n",
    "\n",
    "\n",
    "print(\"io_range_2000_plus\", io_range_2000_plus)\n",
    "print(\"io_range_1000_2000\", io_range_1000_2000)\n",
    "print(\"io_range_500_1000\", io_range_500_1000)\n",
    "print(\"io_range_100_500\", io_range_100_500)\n",
    "print(\"io_range_50_100\", io_range_50_100)\n",
    "print(\"io_range_10_50\", io_range_10_50)\n",
    "print(\"io_range_2_10\", io_range_2_10)\n",
    "print(\"io_range_1\", io_range_1)\n",
    "\n",
    "total_IOs_block = io_range_2000_plus + io_range_1000_2000 + io_range_500_1000 + io_range_100_500 + io_range_50_100 + io_range_10_50 + io_range_2_10 + io_range_1\n",
    "print(\"sum of all IOs = \", total_IOs_block)"
   ]
  },
  {
   "cell_type": "code",
   "execution_count": 26,
   "metadata": {},
   "outputs": [],
   "source": [
    "# len(block_counter_dict) 97.357"
   ]
  },
  {
   "cell_type": "code",
   "execution_count": 6,
   "metadata": {},
   "outputs": [
    {
     "data": {
      "image/png": "[encoded data removed]",
      "text/plain": [
       "<Figure size 720x720 with 1 Axes>"
      ]
     },
     "metadata": {},
     "output_type": "display_data"
    }
   ],
   "source": [
    "import matplotlib.pyplot as pyplot\n",
    "\n",
    "pyplot.figure(figsize=(10,10))\n",
    "\n",
    "x_axis = [\"1\", \"2-10\", \"10-50\", \"50-100\", \"100-500\", \"500-1000\", \"1000-2000\", \"2000+\"]\n",
    "\n",
    "y_axis = [block_range_1, block_range_2_10, block_range_10_50,\n",
    "          block_range_50_100, block_range_100_500, block_range_500_1000,\n",
    "          block_range_1000_2000, block_range_2000_plus]\n",
    "\n",
    "pyplot.bar(x_axis, y_axis, width=0.7, label='% of total access')\n",
    "# pyplot.bar(x_h, host_read_latency, width=0.7, label='Oasis')\n",
    "# pyplot.xticks([])\n",
    "pyplot.legend(loc='upper right')\n",
    "pyplot.title(\"PDF (Discrete) of total access\")\n",
    "pyplot.ylabel('No of unique blocks')\n",
    "pyplot.xlabel('Range of block accesses i.e. 50-100 means \"count of blocks that are accessed >=50 and <100\" ')\n",
    "pyplot.text(5, 700000, \"61.102% of blocks never touched, i.e. not shown in this graph\", bbox=dict(facecolor='yellow', alpha=0.5))\n",
    "\n",
    "for i in range(len(x_axis)):\n",
    "    pyplot.annotate(str(round(y_axis[i]/number_of_blocks_total_accessed, 3)), xy=(x_axis[i], y_axis[i]))\n",
    "\n"
   ]
  },
  {
   "cell_type": "code",
   "execution_count": null,
   "metadata": {},
   "outputs": [],
   "source": []
  },
  {
   "cell_type": "code",
   "execution_count": 7,
   "metadata": {},
   "outputs": [
    {
     "data": {
      "image/png": "[encoded data removed]",
      "text/plain": [
       "<Figure size 720x720 with 1 Axes>"
      ]
     },
     "metadata": {},
     "output_type": "display_data"
    }
   ],
   "source": [
    "import matplotlib.pyplot as pyplot\n",
    "\n",
    "pyplot.figure(figsize=(10,10))\n",
    "\n",
    "x_axis = [\"1\", \"2-10\", \"10-50\", \"50-100\", \"100-500\", \"500-1000\", \"1000-2000\", \"2000+\"]\n",
    "\n",
    "y_axis = [io_range_1, io_range_2_10, io_range_10_50,\n",
    "          io_range_50_100, io_range_100_500, io_range_500_1000,\n",
    "          io_range_1000_2000, io_range_2000_plus]\n",
    "\n",
    "pyplot.bar(x_axis, y_axis, width=0.7, label='% of total access')\n",
    "# pyplot.bar(x_h, host_read_latency, width=0.7, label='Oasis')\n",
    "# pyplot.xticks([])\n",
    "pyplot.legend(loc='upper right')\n",
    "pyplot.title(\"PDF (Discrete) of total IO access\")\n",
    "pyplot.ylabel('IO activity over blocks')\n",
    "pyplot.xlabel('Range of block accesses i.e. 50-100 means \"count of blocks that are accessed >=50 and <100\" ')\n",
    "# pyplot.text(5, 150000, \"99.982% of blocks never touched, i.e. not shown in this graph\", bbox=dict(facecolor='yellow', alpha=0.5))\n",
    "\n",
    "for i in range(len(x_axis)):\n",
    "    pyplot.annotate(str(round(y_axis[i]/total_IOs_block, 3)), xy=(x_axis[i], y_axis[i]))\n",
    "\n"
   ]
  },
  {
   "cell_type": "code",
   "execution_count": null,
   "metadata": {},
   "outputs": [],
   "source": []
  },
  {
   "cell_type": "code",
   "execution_count": 15,
   "metadata": {},
   "outputs": [],
   "source": [
    "def ecdf(data):\n",
    "    \"\"\" Compute ECDF \"\"\"\n",
    "#     x = np.sort(data)\n",
    "    n = len(data)\n",
    "#     y = np.arange(1, data) / n\n",
    "\n",
    "    cumsum = 0\n",
    "    y = []\n",
    "    for i in range(len(data)):\n",
    "        cumsum += data[i]\n",
    "        y.append(round(cumsum/len(block_counter_dict), 3))\n",
    "\n",
    "    return y"
   ]
  },
  {
   "cell_type": "code",
   "execution_count": 30,
   "metadata": {},
   "outputs": [],
   "source": [
    "import chart_studio.plotly as py\n",
    "import plotly.graph_objs as go\n",
    "import numpy as np\n",
    "\n",
    "# y = ecdf(y_axis)\n",
    "\n",
    "\n",
    "\n",
    "########## PLOTLY CODE not visible on github\n",
    "\n",
    "# trace = go.Scatter(x=x_axis,\n",
    "#                    y=y,\n",
    "#                    marker=dict(color='rgb(150, 25, 120)'))\n",
    "\n",
    "\n",
    "# layout = go.Layout(\n",
    "#     title=\"Cumulative Distribution Function\"\n",
    "# )\n",
    "\n",
    "# fig = go.Figure(data=go.Data([trace]), layout=layout)\n",
    "\n",
    "# fig.update_layout(\n",
    "# #     title=\"Plot Title\",\n",
    "#     xaxis_title=\"Range of block access\",\n",
    "#     yaxis_title=\"CDF (continuous)\"\n",
    "# #     font=dict(\n",
    "# #         family=\"Courier New, monospace\",\n",
    "# #         size=18,\n",
    "# #         color=\"#7f7f7f\"\n",
    "# #     )\n",
    "# )\n",
    "# fig.show()\n",
    "\n",
    "\n",
    "\n",
    "\n",
    "\n",
    "\n",
    "\n",
    "\n",
    "# pyplot.figure(figsize=(10,10))\n",
    "# pyplot.scatter(x=x_axis, y=y)\n",
    "# pyplot.plot(x_axis, y)\n",
    "# for i in range(len(x_axis)):\n",
    "#     pyplot.annotate(str(y[i]), xy=(x_axis[i], y[i]))\n",
    "# # pyplot.legend(loc='upper right')\n",
    "# pyplot.title(\"Cumulative Distribution Function (Continuous) of total block access\")\n",
    "# pyplot.ylabel('Cumulative Probability')\n",
    "# pyplot.xlabel('Range of block accesses i.e. 50-100 means \"count of blocks that are accessed >=50 and <100\" ')\n",
    "# pyplot.text(4, 0.7, \"97.357% of blocks never touched, i.e. not shown in this graph\", bbox=dict(facecolor='yellow', alpha=0.5))\n",
    "\n",
    "\n"
   ]
  },
  {
   "cell_type": "code",
   "execution_count": null,
   "metadata": {},
   "outputs": [],
   "source": []
  },
  {
   "cell_type": "code",
   "execution_count": null,
   "metadata": {},
   "outputs": [],
   "source": []
  },
  {
   "cell_type": "code",
   "execution_count": null,
   "metadata": {},
   "outputs": [],
   "source": []
  },
  {
   "cell_type": "code",
   "execution_count": null,
   "metadata": {},
   "outputs": [],
   "source": []
  },
  {
   "cell_type": "code",
   "execution_count": null,
   "metadata": {},
   "outputs": [],
   "source": []
  },
  {
   "cell_type": "code",
   "execution_count": null,
   "metadata": {},
   "outputs": [],
   "source": []
  },
  {
   "cell_type": "code",
   "execution_count": null,
   "metadata": {},
   "outputs": [],
   "source": []
  },
  {
   "cell_type": "code",
   "execution_count": null,
   "metadata": {},
   "outputs": [],
   "source": []
  },
  {
   "cell_type": "code",
   "execution_count": null,
   "metadata": {},
   "outputs": [],
   "source": []
  },
  {
   "cell_type": "code",
   "execution_count": null,
   "metadata": {},
   "outputs": [],
   "source": []
  },
  {
   "cell_type": "code",
   "execution_count": null,
   "metadata": {},
   "outputs": [],
   "source": []
  },
  {
   "cell_type": "code",
   "execution_count": null,
   "metadata": {},
   "outputs": [],
   "source": []
  },
  {
   "cell_type": "markdown",
   "metadata": {},
   "source": [
    "## Trace Analysis - time series plot"
   ]
  },
  {
   "cell_type": "markdown",
   "metadata": {},
   "source": [
    "### All accesses wrt each block"
   ]
  },
  {
   "cell_type": "code",
   "execution_count": null,
   "metadata": {},
   "outputs": [],
   "source": []
  },
  {
   "cell_type": "code",
   "execution_count": null,
   "metadata": {},
   "outputs": [],
   "source": []
  },
  {
   "cell_type": "code",
   "execution_count": 16,
   "metadata": {},
   "outputs": [],
   "source": [
    "def convert_filetime_to_datetime(ft):\n",
    "    return datetime.utcfromtimestamp((ft - 116444736000000000) / 10000000)\n"
   ]
  },
  {
   "cell_type": "code",
   "execution_count": null,
   "metadata": {
    "scrolled": true
   },
   "outputs": [],
   "source": [
    "# Part 2 - This is time series data\n",
    "\n",
    "\n",
    "\n",
    "# Reset all the values to zero\n",
    "# new_block_dict = dict.fromkeys(sorted_block_counter_dict, 0)\n",
    "\n",
    "set_pivot_timer = convert_filetime_to_datetime(data.Timestamp[0])\n",
    "set_hours = 1\n",
    "result_df = pd.DataFrame()\n",
    "result_read_df = pd.DataFrame()\n",
    "result_write_df = pd.DataFrame()\n",
    "\n",
    "granularity_y_axis = 1000\n",
    "granularity_x_axis = 20\n",
    "\n",
    "time_series_dict = dict.fromkeys(range(granularity_y_axis+1), 0)\n",
    "time_series_read_dict = dict.fromkeys(range(granularity_y_axis+1), 0)\n",
    "time_series_write_dict = dict.fromkeys(range(granularity_y_axis+1), 0)\n",
    "\n",
    "flag = False\n",
    "dataframe_column_count = 0\n",
    "\n",
    "# Now keep only granularity_y_axis block_ranges on y-axis for better visualisation\n",
    "block_range_size = sorted_df.index[-1] // granularity_y_axis\n",
    "\n",
    "\n",
    "for row in data.itertuples():\n",
    "    \n",
    "    # print (type(convert_filetime_to_datetime(row.Timestamp)), convert_filetime_to_datetime(row.Timestamp))\n",
    "    \n",
    "\n",
    "    \n",
    "    # Time visualisation can be seen in above print statement - Collect trace map for every 12hrs\n",
    "    current_io_time = convert_filetime_to_datetime(row.Timestamp)\n",
    "    if abs(current_io_time - set_pivot_timer) > timedelta(hours=set_hours):\n",
    "        # 6 hours limit crossed, set a flag and record new entries\n",
    "        flag = True\n",
    "        df = pd.DataFrame.from_dict(time_series_dict, orient='index')\n",
    "        result_df[dataframe_column_count] = df[0].values\n",
    "\n",
    "        df = pd.DataFrame.from_dict(time_series_read_dict, orient='index')\n",
    "        result_read_df[dataframe_column_count] = df[0].values\n",
    "        \n",
    "        df = pd.DataFrame.from_dict(time_series_write_dict, orient='index')\n",
    "        result_write_df[dataframe_column_count] = df[0].values        \n",
    "        \n",
    "        # update pivot timer to current one\n",
    "        set_pivot_timer = current_io_time\n",
    "        print (\"set_pivot_timer\", set_pivot_timer)\n",
    "        \n",
    "        dataframe_column_count += 1\n",
    "        \n",
    "        \n",
    "        \n",
    "        \n",
    "        \n",
    "    # Reintialize dict if just copied to dataframe    \n",
    "    if flag == True:\n",
    "        time_series_dict = dict.fromkeys(range(granularity_y_axis + 1), 0)\n",
    "        time_series_read_dict = dict.fromkeys(range(granularity_y_axis + 1), 0)\n",
    "        time_series_write_dict = dict.fromkeys(range(granularity_y_axis + 1), 0)\n",
    "        flag = False\n",
    "    \n",
    "    \n",
    "    \n",
    "    # taking block size = 4KB    \n",
    "    block_index = row.Offset // 4096\n",
    "    # using offset iterate over the next blocks\n",
    "    next_blocks_count = row.Size // 4096\n",
    "\n",
    "    \n",
    "    \n",
    "    \n",
    "    # Increment next blocks counter -------\n",
    "    for i in range(0, next_blocks_count):\n",
    "        time_series_dict[(block_index+i) // block_range_size] += 1\n",
    "        if (row.Type == \"Read\"):\n",
    "            time_series_read_dict[(block_index+i) // block_range_size] += 1\n",
    "        else:\n",
    "            time_series_write_dict[(block_index+i) // block_range_size] += 1        \n",
    "        \n",
    "        \n",
    "        \n",
    "#     flag = False\n",
    "    # No of time periods defined here\n",
    "    if dataframe_column_count > granularity_x_axis:\n",
    "        break\n",
    "\n",
    "        \n",
    "        \n",
    "# loop ended, copy last time period data\n",
    "if flag == False and dataframe_column_count <= granularity_x_axis:\n",
    "    df = pd.DataFrame.from_dict(time_series_dict, orient='index')\n",
    "    result_df[dataframe_column_count] = df[0].values\n",
    "        \n",
    "print (result_df)"
   ]
  },
  {
   "cell_type": "code",
   "execution_count": null,
   "metadata": {
    "scrolled": true
   },
   "outputs": [],
   "source": [
    "sns.set(rc={'figure.figsize':(20,20)})\n",
    "cmap_i = sns.cubehelix_palette(as_cmap=True, light=.9)\n",
    "\n",
    "heatmap = sns.heatmap(result_df, cmap=cmap_i)\n",
    "plt.xlabel('Time periods (each period of %s hour(s)' % set_hours)\n",
    "plt.ylabel('Block Range, each index is a collection = %d blocks, some indexes will be visible on increasing figure size in line#1' % block_range_size)\n",
    "\n",
    "plt.title('This graph shows time-series data, i.e. temperature of block(s) over a period of time')\n",
    "plt.show()\n"
   ]
  },
  {
   "cell_type": "code",
   "execution_count": null,
   "metadata": {},
   "outputs": [],
   "source": []
  },
  {
   "cell_type": "code",
   "execution_count": null,
   "metadata": {},
   "outputs": [],
   "source": []
  },
  {
   "cell_type": "code",
   "execution_count": null,
   "metadata": {},
   "outputs": [],
   "source": []
  },
  {
   "cell_type": "code",
   "execution_count": null,
   "metadata": {},
   "outputs": [],
   "source": []
  },
  {
   "cell_type": "code",
   "execution_count": null,
   "metadata": {},
   "outputs": [],
   "source": []
  },
  {
   "cell_type": "code",
   "execution_count": null,
   "metadata": {},
   "outputs": [],
   "source": []
  },
  {
   "cell_type": "markdown",
   "metadata": {},
   "source": [
    "### Plot of number of reads and writes wrt each block"
   ]
  },
  {
   "cell_type": "code",
   "execution_count": null,
   "metadata": {},
   "outputs": [],
   "source": [
    "sns.set(rc={'figure.figsize':(20,20)})\n",
    "cmap_i = sns.cubehelix_palette(as_cmap=True, light=.9)\n",
    "\n",
    "heatmap = sns.heatmap(result_read_df, cmap=cmap_i)\n",
    "plt.xlabel('Time periods (each period of %s hour(s)' % set_hours)\n",
    "plt.ylabel('Block Range, each index is a collection = %d blocks, some indexes will be visible on increasing figure size in line#1' % block_range_size)\n",
    "\n",
    "plt.title('This graph shows time-series read_data, i.e. temperature of block(s) over a period of time, but only wrt READ')\n",
    "plt.show()\n"
   ]
  },
  {
   "cell_type": "code",
   "execution_count": null,
   "metadata": {},
   "outputs": [],
   "source": []
  },
  {
   "cell_type": "code",
   "execution_count": null,
   "metadata": {},
   "outputs": [],
   "source": []
  },
  {
   "cell_type": "code",
   "execution_count": null,
   "metadata": {},
   "outputs": [],
   "source": [
    "sns.set(rc={'figure.figsize':(20,20)})\n",
    "cmap_i = sns.cubehelix_palette(as_cmap=True, light=.9)\n",
    "\n",
    "heatmap = sns.heatmap(result_write_df, cmap=cmap_i)\n",
    "plt.xlabel('Time periods (each period of %s hour(s)' % set_hours)\n",
    "plt.ylabel('Block Range, each index is a collection = %d blocks, some indexes will be visible on increasing figure size in line#1' % block_range_size)\n",
    "\n",
    "plt.title('This graph shows time-series write_data, i.e. temperature of block(s) over a period of time, but only wrt WRITE')\n",
    "plt.show()\n",
    "\n"
   ]
  },
  {
   "cell_type": "code",
   "execution_count": null,
   "metadata": {},
   "outputs": [],
   "source": []
  },
  {
   "cell_type": "code",
   "execution_count": null,
   "metadata": {},
   "outputs": [],
   "source": []
  },
  {
   "cell_type": "code",
   "execution_count": null,
   "metadata": {},
   "outputs": [],
   "source": []
  },
  {
   "cell_type": "code",
   "execution_count": null,
   "metadata": {},
   "outputs": [],
   "source": []
  },
  {
   "cell_type": "code",
   "execution_count": null,
   "metadata": {},
   "outputs": [],
   "source": []
  },
  {
   "cell_type": "code",
   "execution_count": null,
   "metadata": {},
   "outputs": [],
   "source": []
  },
  {
   "cell_type": "code",
   "execution_count": null,
   "metadata": {},
   "outputs": [],
   "source": []
  },
  {
   "cell_type": "code",
   "execution_count": null,
   "metadata": {},
   "outputs": [],
   "source": []
  },
  {
   "cell_type": "markdown",
   "metadata": {
    "heading_collapsed": true
   },
   "source": [
    "## Extras"
   ]
  },
  {
   "cell_type": "code",
   "execution_count": 11,
   "metadata": {
    "hidden": true
   },
   "outputs": [
    {
     "name": "stdout",
     "output_type": "stream",
     "text": [
      "Start time -  2007-02-22 17:00:02.440845\n",
      "End time -  2007-03-01 16:59:59.736612\n",
      "15266\n"
     ]
    }
   ],
   "source": [
    "print(\"Start time - \", convert_filetime_to_datetime(data.Timestamp[0]))\n",
    "print(\"End time - \", convert_filetime_to_datetime(data.Timestamp[2244643]))\n",
    "print(len(block_counter_dict) // 100)\n"
   ]
  },
  {
   "cell_type": "code",
   "execution_count": 12,
   "metadata": {
    "hidden": true
   },
   "outputs": [
    {
     "data": {
      "text/plain": [
       "57775841"
      ]
     },
     "execution_count": 12,
     "metadata": {},
     "output_type": "execute_result"
    }
   ],
   "source": [
    "sorted_df.index[-1]"
   ]
  },
  {
   "cell_type": "code",
   "execution_count": null,
   "metadata": {
    "hidden": true
   },
   "outputs": [],
   "source": []
  }
 ],
 "metadata": {
  "kernelspec": {
   "display_name": "Python 3",
   "language": "python",
   "name": "python3"
  },
  "language_info": {
   "codemirror_mode": {
    "name": "ipython",
    "version": 3
   },
   "file_extension": ".py",
   "mimetype": "text/x-python",
   "name": "python",
   "nbconvert_exporter": "python",
   "pygments_lexer": "ipython3",
   "version": "3.6.9"
  }
 },
 "nbformat": 4,
 "nbformat_minor": 4
}
